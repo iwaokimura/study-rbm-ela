{
 "cells": [
  {
   "cell_type": "markdown",
   "metadata": {},
   "source": [
    "This notebook is taken from [Restricted Boltzmann Machine features for digit classification](https://scikit-learn.org/stable/auto_examples/neural_networks/plot_rbm_logistic_classification.html#sphx-glr-auto-examples-neural-networks-plot-rbm-logistic-classification-py)"
   ]
  },
  {
   "cell_type": "code",
   "execution_count": 1,
   "metadata": {},
   "outputs": [],
   "source": [
    "%matplotlib inline"
   ]
  },
  {
   "cell_type": "markdown",
   "metadata": {},
   "source": [
    "\n",
    "# Restricted Boltzmann Machine features for digit classification\n",
    "\n",
    "For greyscale image data where pixel values can be interpreted as degrees of\n",
    "blackness on a white background, like handwritten digit recognition, the\n",
    "Bernoulli Restricted Boltzmann machine model (:class:`BernoulliRBM\n",
    "<sklearn.neural_network.BernoulliRBM>`) can perform effective non-linear\n",
    "feature extraction.\n"
   ]
  },
  {
   "cell_type": "code",
   "execution_count": 2,
   "metadata": {},
   "outputs": [],
   "source": [
    "# Authors: Yann N. Dauphin, Vlad Niculae, Gabriel Synnaeve\n",
    "# License: BSD"
   ]
  },
  {
   "cell_type": "markdown",
   "metadata": {},
   "source": [
    "## Generate data\n",
    "\n",
    "In order to learn good latent representations from a small dataset, we\n",
    "artificially generate more labeled data by perturbing the training data with\n",
    "linear shifts of 1 pixel in each direction.\n",
    "\n"
   ]
  },
  {
   "cell_type": "code",
   "execution_count": 3,
   "metadata": {},
   "outputs": [],
   "source": [
    "import numpy as np\n",
    "\n",
    "from scipy.ndimage import convolve\n",
    "\n",
    "from sklearn import datasets\n",
    "from sklearn.preprocessing import minmax_scale\n",
    "\n",
    "from sklearn.model_selection import train_test_split\n",
    "\n",
    "\n",
    "def nudge_dataset(X, Y):\n",
    "    \"\"\"\n",
    "    This produces a dataset 5 times bigger than the original one,\n",
    "    by moving the 8x8 images in X around by 1px to left, right, down, up\n",
    "    \"\"\"\n",
    "    direction_vectors = [\n",
    "        [[0, 1, 0], [0, 0, 0], [0, 0, 0]],\n",
    "        [[0, 0, 0], [1, 0, 0], [0, 0, 0]],\n",
    "        [[0, 0, 0], [0, 0, 1], [0, 0, 0]],\n",
    "        [[0, 0, 0], [0, 0, 0], [0, 1, 0]],\n",
    "    ]\n",
    "\n",
    "    def shift(x, w):\n",
    "        return convolve(x.reshape((8, 8)), mode=\"constant\", weights=w).ravel()\n",
    "\n",
    "    X = np.concatenate(\n",
    "        [X] + [np.apply_along_axis(shift, 1, X, vector) for vector in direction_vectors]\n",
    "    )\n",
    "    Y = np.concatenate([Y for _ in range(5)], axis=0)\n",
    "    return X, Y\n",
    "\n",
    "\n",
    "X, y = datasets.load_digits(return_X_y=True)\n",
    "X = np.asarray(X, \"float32\")\n",
    "X, Y = nudge_dataset(X, y)\n",
    "X = minmax_scale(X, feature_range=(0, 1))  # 0-1 scaling\n",
    "\n",
    "X_train, X_test, Y_train, Y_test = train_test_split(X, Y, test_size=0.2, random_state=0)"
   ]
  },
  {
   "cell_type": "markdown",
   "metadata": {},
   "source": [
    "## Models definition\n",
    "\n",
    "We build a classification pipeline with a BernoulliRBM feature extractor and\n",
    "a :class:`LogisticRegression <sklearn.linear_model.LogisticRegression>`\n",
    "classifier.\n",
    "\n"
   ]
  },
  {
   "cell_type": "code",
   "execution_count": 4,
   "metadata": {},
   "outputs": [],
   "source": [
    "from sklearn import linear_model\n",
    "from sklearn.neural_network import BernoulliRBM\n",
    "from sklearn.pipeline import Pipeline\n",
    "\n",
    "logistic = linear_model.LogisticRegression(solver=\"newton-cg\", tol=1)\n",
    "rbm = BernoulliRBM(random_state=0, verbose=True)\n",
    "\n",
    "rbm_features_classifier = Pipeline(steps=[(\"rbm\", rbm), (\"logistic\", logistic)])"
   ]
  },
  {
   "cell_type": "markdown",
   "metadata": {},
   "source": [
    "## Training\n",
    "\n",
    "The hyperparameters of the entire model (learning rate, hidden layer size,\n",
    "regularization) were optimized by grid search, but the search is not\n",
    "reproduced here because of runtime constraints.\n",
    "\n"
   ]
  },
  {
   "cell_type": "code",
   "execution_count": 5,
   "metadata": {},
   "outputs": [
    {
     "name": "stdout",
     "output_type": "stream",
     "text": [
      "[BernoulliRBM] Iteration 1, pseudo-likelihood = -25.57, time = 0.09s\n",
      "[BernoulliRBM] Iteration 2, pseudo-likelihood = -23.68, time = 0.11s\n",
      "[BernoulliRBM] Iteration 3, pseudo-likelihood = -22.74, time = 0.10s\n",
      "[BernoulliRBM] Iteration 4, pseudo-likelihood = -21.92, time = 0.11s\n",
      "[BernoulliRBM] Iteration 5, pseudo-likelihood = -21.48, time = 0.10s\n",
      "[BernoulliRBM] Iteration 6, pseudo-likelihood = -21.07, time = 0.11s\n",
      "[BernoulliRBM] Iteration 7, pseudo-likelihood = -20.70, time = 0.10s\n",
      "[BernoulliRBM] Iteration 8, pseudo-likelihood = -20.65, time = 0.12s\n",
      "[BernoulliRBM] Iteration 9, pseudo-likelihood = -20.44, time = 0.09s\n",
      "[BernoulliRBM] Iteration 10, pseudo-likelihood = -20.13, time = 0.10s\n"
     ]
    },
    {
     "data": {
      "text/html": [
       "<style>#sk-container-id-1 {color: black;background-color: white;}#sk-container-id-1 pre{padding: 0;}#sk-container-id-1 div.sk-toggleable {background-color: white;}#sk-container-id-1 label.sk-toggleable__label {cursor: pointer;display: block;width: 100%;margin-bottom: 0;padding: 0.3em;box-sizing: border-box;text-align: center;}#sk-container-id-1 label.sk-toggleable__label-arrow:before {content: \"▸\";float: left;margin-right: 0.25em;color: #696969;}#sk-container-id-1 label.sk-toggleable__label-arrow:hover:before {color: black;}#sk-container-id-1 div.sk-estimator:hover label.sk-toggleable__label-arrow:before {color: black;}#sk-container-id-1 div.sk-toggleable__content {max-height: 0;max-width: 0;overflow: hidden;text-align: left;background-color: #f0f8ff;}#sk-container-id-1 div.sk-toggleable__content pre {margin: 0.2em;color: black;border-radius: 0.25em;background-color: #f0f8ff;}#sk-container-id-1 input.sk-toggleable__control:checked~div.sk-toggleable__content {max-height: 200px;max-width: 100%;overflow: auto;}#sk-container-id-1 input.sk-toggleable__control:checked~label.sk-toggleable__label-arrow:before {content: \"▾\";}#sk-container-id-1 div.sk-estimator input.sk-toggleable__control:checked~label.sk-toggleable__label {background-color: #d4ebff;}#sk-container-id-1 div.sk-label input.sk-toggleable__control:checked~label.sk-toggleable__label {background-color: #d4ebff;}#sk-container-id-1 input.sk-hidden--visually {border: 0;clip: rect(1px 1px 1px 1px);clip: rect(1px, 1px, 1px, 1px);height: 1px;margin: -1px;overflow: hidden;padding: 0;position: absolute;width: 1px;}#sk-container-id-1 div.sk-estimator {font-family: monospace;background-color: #f0f8ff;border: 1px dotted black;border-radius: 0.25em;box-sizing: border-box;margin-bottom: 0.5em;}#sk-container-id-1 div.sk-estimator:hover {background-color: #d4ebff;}#sk-container-id-1 div.sk-parallel-item::after {content: \"\";width: 100%;border-bottom: 1px solid gray;flex-grow: 1;}#sk-container-id-1 div.sk-label:hover label.sk-toggleable__label {background-color: #d4ebff;}#sk-container-id-1 div.sk-serial::before {content: \"\";position: absolute;border-left: 1px solid gray;box-sizing: border-box;top: 0;bottom: 0;left: 50%;z-index: 0;}#sk-container-id-1 div.sk-serial {display: flex;flex-direction: column;align-items: center;background-color: white;padding-right: 0.2em;padding-left: 0.2em;position: relative;}#sk-container-id-1 div.sk-item {position: relative;z-index: 1;}#sk-container-id-1 div.sk-parallel {display: flex;align-items: stretch;justify-content: center;background-color: white;position: relative;}#sk-container-id-1 div.sk-item::before, #sk-container-id-1 div.sk-parallel-item::before {content: \"\";position: absolute;border-left: 1px solid gray;box-sizing: border-box;top: 0;bottom: 0;left: 50%;z-index: -1;}#sk-container-id-1 div.sk-parallel-item {display: flex;flex-direction: column;z-index: 1;position: relative;background-color: white;}#sk-container-id-1 div.sk-parallel-item:first-child::after {align-self: flex-end;width: 50%;}#sk-container-id-1 div.sk-parallel-item:last-child::after {align-self: flex-start;width: 50%;}#sk-container-id-1 div.sk-parallel-item:only-child::after {width: 0;}#sk-container-id-1 div.sk-dashed-wrapped {border: 1px dashed gray;margin: 0 0.4em 0.5em 0.4em;box-sizing: border-box;padding-bottom: 0.4em;background-color: white;}#sk-container-id-1 div.sk-label label {font-family: monospace;font-weight: bold;display: inline-block;line-height: 1.2em;}#sk-container-id-1 div.sk-label-container {text-align: center;}#sk-container-id-1 div.sk-container {/* jupyter's `normalize.less` sets `[hidden] { display: none; }` but bootstrap.min.css set `[hidden] { display: none !important; }` so we also need the `!important` here to be able to override the default hidden behavior on the sphinx rendered scikit-learn.org. See: https://github.com/scikit-learn/scikit-learn/issues/21755 */display: inline-block !important;position: relative;}#sk-container-id-1 div.sk-text-repr-fallback {display: none;}</style><div id=\"sk-container-id-1\" class=\"sk-top-container\"><div class=\"sk-text-repr-fallback\"><pre>LogisticRegression(C=100.0, solver=&#x27;newton-cg&#x27;, tol=1)</pre><b>In a Jupyter environment, please rerun this cell to show the HTML representation or trust the notebook. <br />On GitHub, the HTML representation is unable to render, please try loading this page with nbviewer.org.</b></div><div class=\"sk-container\" hidden><div class=\"sk-item\"><div class=\"sk-estimator sk-toggleable\"><input class=\"sk-toggleable__control sk-hidden--visually\" id=\"sk-estimator-id-1\" type=\"checkbox\" checked><label for=\"sk-estimator-id-1\" class=\"sk-toggleable__label sk-toggleable__label-arrow\">LogisticRegression</label><div class=\"sk-toggleable__content\"><pre>LogisticRegression(C=100.0, solver=&#x27;newton-cg&#x27;, tol=1)</pre></div></div></div></div></div>"
      ],
      "text/plain": [
       "LogisticRegression(C=100.0, solver='newton-cg', tol=1)"
      ]
     },
     "execution_count": 5,
     "metadata": {},
     "output_type": "execute_result"
    }
   ],
   "source": [
    "from sklearn.base import clone\n",
    "\n",
    "# Hyper-parameters. These were set by cross-validation,\n",
    "# using a GridSearchCV. Here we are not performing cross-validation to\n",
    "# save time.\n",
    "rbm.learning_rate = 0.06\n",
    "rbm.n_iter = 10\n",
    "\n",
    "# More components tend to give better prediction performance, but larger\n",
    "# fitting time\n",
    "rbm.n_components = 100\n",
    "logistic.C = 6000\n",
    "\n",
    "# Training RBM-Logistic Pipeline\n",
    "rbm_features_classifier.fit(X_train, Y_train)\n",
    "\n",
    "# Training the Logistic regression classifier directly on the pixel\n",
    "raw_pixel_classifier = clone(logistic)\n",
    "raw_pixel_classifier.C = 100.0\n",
    "raw_pixel_classifier.fit(X_train, Y_train)"
   ]
  },
  {
   "cell_type": "markdown",
   "metadata": {},
   "source": [
    "## Evaluation\n",
    "\n"
   ]
  },
  {
   "cell_type": "code",
   "execution_count": 6,
   "metadata": {},
   "outputs": [
    {
     "name": "stdout",
     "output_type": "stream",
     "text": [
      "Logistic regression using RBM features:\n",
      "              precision    recall  f1-score   support\n",
      "\n",
      "           0       0.99      0.98      0.99       174\n",
      "           1       0.91      0.95      0.93       184\n",
      "           2       0.95      0.95      0.95       166\n",
      "           3       0.94      0.90      0.92       194\n",
      "           4       0.96      0.94      0.95       186\n",
      "           5       0.94      0.91      0.92       181\n",
      "           6       0.98      0.97      0.97       207\n",
      "           7       0.94      0.99      0.97       154\n",
      "           8       0.88      0.88      0.88       182\n",
      "           9       0.88      0.92      0.90       169\n",
      "\n",
      "    accuracy                           0.94      1797\n",
      "   macro avg       0.94      0.94      0.94      1797\n",
      "weighted avg       0.94      0.94      0.94      1797\n",
      "\n",
      "\n"
     ]
    }
   ],
   "source": [
    "from sklearn import metrics\n",
    "\n",
    "Y_pred = rbm_features_classifier.predict(X_test)\n",
    "print(\n",
    "    \"Logistic regression using RBM features:\\n%s\\n\"\n",
    "    % (metrics.classification_report(Y_test, Y_pred))\n",
    ")"
   ]
  },
  {
   "cell_type": "code",
   "execution_count": 7,
   "metadata": {},
   "outputs": [
    {
     "name": "stdout",
     "output_type": "stream",
     "text": [
      "Logistic regression using raw pixel features:\n",
      "              precision    recall  f1-score   support\n",
      "\n",
      "           0       0.90      0.92      0.91       174\n",
      "           1       0.60      0.58      0.59       184\n",
      "           2       0.76      0.85      0.80       166\n",
      "           3       0.78      0.79      0.79       194\n",
      "           4       0.81      0.83      0.82       186\n",
      "           5       0.77      0.75      0.76       181\n",
      "           6       0.90      0.87      0.89       207\n",
      "           7       0.87      0.88      0.87       154\n",
      "           8       0.67      0.59      0.63       182\n",
      "           9       0.75      0.76      0.75       169\n",
      "\n",
      "    accuracy                           0.78      1797\n",
      "   macro avg       0.78      0.78      0.78      1797\n",
      "weighted avg       0.78      0.78      0.78      1797\n",
      "\n",
      "\n"
     ]
    }
   ],
   "source": [
    "Y_pred = raw_pixel_classifier.predict(X_test)\n",
    "print(\n",
    "    \"Logistic regression using raw pixel features:\\n%s\\n\"\n",
    "    % (metrics.classification_report(Y_test, Y_pred))\n",
    ")"
   ]
  },
  {
   "cell_type": "markdown",
   "metadata": {},
   "source": [
    "The features extracted by the BernoulliRBM help improve the classification\n",
    "accuracy with respect to the logistic regression on raw pixels.\n",
    "\n"
   ]
  },
  {
   "cell_type": "markdown",
   "metadata": {},
   "source": [
    "## Plotting\n",
    "\n"
   ]
  },
  {
   "cell_type": "code",
   "execution_count": 8,
   "metadata": {},
   "outputs": [
    {
     "data": {
      "image/png": "[encoded data removed]",
      "text/plain": [
       "<Figure size 420x400 with 100 Axes>"
      ]
     },
     "metadata": {},
     "output_type": "display_data"
    }
   ],
   "source": [
    "import matplotlib.pyplot as plt\n",
    "\n",
    "plt.figure(figsize=(4.2, 4))\n",
    "for i, comp in enumerate(rbm.components_):\n",
    "    plt.subplot(10, 10, i + 1)\n",
    "    plt.imshow(comp.reshape((8, 8)), cmap=plt.cm.gray_r, interpolation=\"nearest\")\n",
    "    plt.xticks(())\n",
    "    plt.yticks(())\n",
    "plt.suptitle(\"100 components extracted by RBM\", fontsize=16)\n",
    "plt.subplots_adjust(0.08, 0.02, 0.92, 0.85, 0.08, 0.23)\n",
    "\n",
    "plt.show()"
   ]
  },
  {
   "cell_type": "markdown",
   "metadata": {},
   "source": [
    "To see the parameters of model, use `get_ramams()` method. The `n_components` is a number of hidden components."
   ]
  },
  {
   "cell_type": "code",
   "execution_count": 9,
   "metadata": {},
   "outputs": [
    {
     "data": {
      "text/plain": [
       "{'batch_size': 10,\n",
       " 'learning_rate': 0.06,\n",
       " 'n_components': 100,\n",
       " 'n_iter': 10,\n",
       " 'random_state': 0,\n",
       " 'verbose': True}"
      ]
     },
     "execution_count": 9,
     "metadata": {},
     "output_type": "execute_result"
    }
   ],
   "source": [
    "params = rbm.get_params(); params"
   ]
  },
  {
   "cell_type": "markdown",
   "metadata": {},
   "source": [
    "To see the intercept of hidden nodes, look at `intercept_hidden_` attribute."
   ]
  },
  {
   "cell_type": "code",
   "execution_count": 61,
   "metadata": {},
   "outputs": [
    {
     "data": {
      "text/plain": [
       "array([-0.88838035, -1.0408834 , -1.0161866 , -1.0417016 , -0.9999614 ,\n",
       "       -1.0820537 ,  0.69814336, -0.9305234 , -0.92106783, -1.0413744 ,\n",
       "       -1.1308011 , -0.8534806 , -1.0181444 , -0.91538346, -0.94229615,\n",
       "       -0.96709365, -1.1323794 , -0.96264225, -1.5026097 , -0.9778689 ,\n",
       "       -1.071262  , -1.1916649 , -1.5397753 , -1.1391997 , -1.108456  ,\n",
       "       -0.85453916, -0.9394974 ,  0.0451419 , -1.0702598 , -1.0861952 ,\n",
       "       -1.1525147 , -0.92075294, -0.9919242 , -1.0178632 , -0.95965177,\n",
       "       -0.94546163, -1.1471157 , -1.1089622 , -0.83088255, -1.0202787 ,\n",
       "       -1.2812754 , -1.0901356 ,  0.9422244 , -1.0170248 , -0.88688993,\n",
       "       -0.8717384 , -0.95915675, -1.1530546 , -1.0564624 , -0.9010896 ,\n",
       "       -1.2128563 , -0.8991259 , -1.0489271 , -1.0605172 , -0.91689605,\n",
       "       -1.0470492 , -1.2089084 , -0.9854795 , -0.96067405, -0.88504505,\n",
       "       -0.9850958 , -0.87776166, -1.074836  , -0.81465834, -0.90452796,\n",
       "       -1.039861  , -1.0699773 , -1.0707592 , -1.0367694 , -1.275485  ,\n",
       "       -1.0268102 , -0.97043186, -1.0632735 , -1.0933925 , -1.0745782 ,\n",
       "       -0.98932475, -0.9841806 , -1.0035111 , -1.0143194 , -1.1250324 ,\n",
       "       -1.0404016 , -0.95865035, -1.0538372 , -0.8830407 , -0.94930685,\n",
       "       -1.2576631 , -1.2817327 , -1.1361985 , -0.8798319 , -0.993232  ,\n",
       "       -1.1526678 , -0.98124146, -0.9576494 , -0.9070066 , -0.92218214,\n",
       "       -0.92760456, -0.8987146 , -1.2308905 , -1.182455  , -1.0122814 ],\n",
       "      dtype=float32)"
      ]
     },
     "execution_count": 61,
     "metadata": {},
     "output_type": "execute_result"
    }
   ],
   "source": [
    "c = rbm.intercept_hidden_; c"
   ]
  },
  {
   "cell_type": "markdown",
   "metadata": {},
   "source": [
    "Similarly, to see the intercept of visible variables, look at `intercept_visible_` property."
   ]
  },
  {
   "cell_type": "code",
   "execution_count": 62,
   "metadata": {},
   "outputs": [
    {
     "data": {
      "text/plain": [
       "array([-1.0087365 , -0.78731394, -0.3232503 ,  0.2591265 ,  0.35643783,\n",
       "       -0.24356276, -1.1255622 , -1.1523815 , -0.9266261 , -0.100875  ,\n",
       "       -0.18506259,  0.84656286,  1.0995013 , -0.34050032, -0.59399974,\n",
       "       -0.98400456, -0.8632511 , -0.45074987, -0.82256305,  0.1886247 ,\n",
       "       -0.06881231, -0.91256446, -0.646686  , -0.994501  , -0.97999007,\n",
       "       -0.5019373 , -0.26887542,  0.59606427, -0.17381233, -0.14399979,\n",
       "       -0.7321877 , -0.97749174, -1.0429306 , -0.4899372 , -0.00431195,\n",
       "        0.8366243 ,  0.27543953,  0.21187544, -0.6924373 , -0.90321547,\n",
       "       -1.0837536 , -0.51506275, -0.41381234,  0.01481257,  0.02981254,\n",
       "       -0.18506297, -0.9721868 , -1.0125031 , -1.0492581 , -0.37574986,\n",
       "       -0.627562  ,  0.00149994,  0.56981176,  0.08925021, -0.9742507 ,\n",
       "       -1.2888826 , -1.0456623 , -0.58875346, -0.1078128 ,  0.6585017 ,\n",
       "        0.8516232 ,  0.28987426, -1.0578783 , -1.3220702 ], dtype=float32)"
      ]
     },
     "execution_count": 62,
     "metadata": {},
     "output_type": "execute_result"
    }
   ],
   "source": [
    "b = rbm.intercept_visible_; b"
   ]
  },
  {
   "cell_type": "markdown",
   "metadata": {},
   "source": [
    "The weight matrix is given by `components_` attribute."
   ]
  },
  {
   "cell_type": "code",
   "execution_count": 27,
   "metadata": {},
   "outputs": [
    {
     "data": {
      "text/plain": [
       "array([[-0.35949907, -0.00230308,  0.03015838, ..., -0.33917227,\n",
       "        -0.2503295 , -0.2834212 ],\n",
       "       [-0.43074337, -0.5344313 , -0.56880677, ..., -0.3086301 ,\n",
       "        -0.38444233, -0.34182027],\n",
       "       [-0.05339918, -0.00663736,  0.00500042, ..., -0.24096097,\n",
       "        -0.25707644, -0.36826432],\n",
       "       ...,\n",
       "       [-0.51945126, -0.654493  , -0.4495061 , ..., -0.63512075,\n",
       "        -0.5862712 , -0.5331271 ],\n",
       "       [-0.00998603,  0.24408855,  0.31080768, ..., -0.4221798 ,\n",
       "        -0.52116483, -0.25987974],\n",
       "       [ 0.00168547,  0.03803547,  0.06592531, ...,  0.05895897,\n",
       "        -0.0137653 , -0.18746626]], dtype=float32)"
      ]
     },
     "execution_count": 27,
     "metadata": {},
     "output_type": "execute_result"
    }
   ],
   "source": [
    "w = rbm.components_; w"
   ]
  },
  {
   "cell_type": "code",
   "execution_count": 48,
   "metadata": {},
   "outputs": [
    {
     "data": {
      "text/plain": [
       "array([-2.92378334e+01, -4.59867806e-08, -1.16775418e-01, -1.98765626e-06,\n",
       "       -2.26059687e-03, -1.07237885e+01, -1.19487851e-08, -3.24498096e+01,\n",
       "       -5.90461013e-11, -6.05665864e+01, -1.78541120e-06, -5.22036927e+01,\n",
       "       -3.61014979e+01, -1.13858424e-03, -1.90797620e-04, -4.90431375e-08,\n",
       "       -4.33951470e-08, -5.30852460e+01, -2.10604448e+01, -4.89133935e-01,\n",
       "       -5.76724107e-01, -1.34918992e-08, -1.56856624e+00, -4.81548343e+01,\n",
       "       -2.81692686e-05, -9.23084468e+00, -2.53529125e+01, -2.79911205e-09,\n",
       "       -2.07623938e+01, -5.37665935e-03, -3.91429676e-01, -6.12719978e+01,\n",
       "       -1.82664235e+00, -2.25587886e-05, -3.21188420e+01, -1.21129781e-01,\n",
       "       -2.24035421e-03, -7.63998055e-07, -1.13533789e+01, -4.59763714e-02,\n",
       "       -2.23417154e+01, -1.26253927e+00, -1.47001786e-04, -1.00338033e+00,\n",
       "       -2.66078220e-03, -1.08607552e+02, -2.04980111e+01, -4.77398370e+01,\n",
       "       -2.39130116e-02, -5.16757566e-03, -5.28643795e-12, -1.34052414e-09,\n",
       "       -1.54121640e+01, -1.11956006e-06, -3.26059045e-03, -1.91536432e-06,\n",
       "       -1.43872242e-07, -3.05142289e+01, -2.78673251e+01, -2.61653540e-03,\n",
       "       -1.34263261e-01, -9.48351757e-03, -6.03994127e-02, -1.00939967e-05,\n",
       "       -1.32459278e+01, -1.72414858e+01, -1.84086389e+01, -1.83885665e-06,\n",
       "       -1.81047809e-07, -2.31322505e+01, -2.16598172e+01, -1.33129011e+01,\n",
       "       -6.10466529e-04, -3.16012176e-01, -4.02326009e+01, -2.06674653e+00,\n",
       "       -1.85262593e-03, -2.28578576e+00, -2.80518151e-08, -1.22330671e+01,\n",
       "       -7.62351772e+01, -5.56963086e-06, -1.98951966e-13, -1.87385318e-02,\n",
       "       -1.09814521e-03, -2.25457944e+01, -1.58604506e-01, -1.06796108e-07,\n",
       "       -5.09675577e+00, -4.36430783e-02, -9.84362457e-08, -1.73721031e+01,\n",
       "       -3.02392431e+00, -8.39185056e+01, -5.45582213e+00, -6.37967901e-10,\n",
       "       -1.86615540e+01, -2.42004283e+01, -1.35765490e+00, -2.73364910e+00])"
      ]
     },
     "execution_count": 48,
     "metadata": {},
     "output_type": "execute_result"
    }
   ],
   "source": [
    "rbm.score_samples(w)"
   ]
  },
  {
   "cell_type": "code",
   "execution_count": 51,
   "metadata": {},
   "outputs": [
    {
     "data": {
      "text/plain": [
       "array([-109.35455 , -112.75942 ,  -72.73953 ,  -76.18315 ,  -90.8914  ,\n",
       "        -79.318634, -430.9925  , -117.754074, -139.85155 ,  -90.11617 ,\n",
       "       -113.64229 ,  -67.67937 , -117.29379 ,  -76.45921 ,  -69.54838 ,\n",
       "        -85.293625, -135.34341 , -101.58394 , -149.08801 , -101.24181 ,\n",
       "        -71.43697 ,  -93.79598 , -158.73134 ,  -94.66773 ,  -92.134186,\n",
       "       -113.98617 ,  -77.329346, -211.61598 ,  -88.10942 ,  -81.79798 ,\n",
       "        -92.2168  ,  -89.679955, -137.68796 ,  -89.58072 ,  -71.10539 ,\n",
       "        -72.743614, -124.65421 ,  -74.18686 , -125.56371 ,  -93.337105,\n",
       "       -127.014275, -208.52281 , -365.38162 ,  -92.12609 , -129.57481 ,\n",
       "        -74.91235 ,  -69.39807 , -125.84449 , -154.94337 ,  -81.02347 ,\n",
       "       -169.71082 , -131.00357 ,  -73.725365, -103.68425 , -168.28058 ,\n",
       "        -75.503044, -107.690155,  -90.49927 ,  -69.41748 ,  -80.302345,\n",
       "       -108.71761 ,  -74.826584, -102.34791 , -137.16399 , -125.54758 ,\n",
       "        -72.64126 ,  -72.9014  ,  -89.53127 , -138.23225 , -142.31644 ,\n",
       "       -167.373   ,  -72.90714 , -118.58459 ,  -99.88873 , -124.22356 ,\n",
       "        -81.2857  ,  -98.30044 ,  -87.365395, -114.28537 , -194.47289 ,\n",
       "       -109.79418 , -114.060974, -124.05606 ,  -72.04939 ,  -80.02929 ,\n",
       "       -114.609146, -120.14129 , -115.53752 ,  -71.36005 ,  -77.407486,\n",
       "       -127.05147 ,  -74.48233 ,  -70.13224 ,  -74.978935,  -81.03384 ,\n",
       "       -132.02795 , -118.18262 , -132.54526 , -103.16378 ,  -73.37381 ],\n",
       "      dtype=float32)"
      ]
     },
     "execution_count": 51,
     "metadata": {},
     "output_type": "execute_result"
    }
   ],
   "source": [
    "rbm._free_energy(w)"
   ]
  },
  {
   "cell_type": "code",
   "execution_count": 50,
   "metadata": {},
   "outputs": [
    {
     "data": {
      "text/plain": [
       "array([-0.35949907, -0.00230308,  0.03015838, -0.09648851, -0.09345978,\n",
       "        0.32720658,  0.6756278 ,  0.60443497, -0.34094736, -0.12178656,\n",
       "       -0.10830817, -0.0675206 , -0.10412705,  0.08915114,  0.48085153,\n",
       "        0.40798855, -0.34673744, -0.2511521 , -0.1557071 , -0.10365993,\n",
       "       -0.11309636,  0.00389531,  0.11889511,  0.0412244 , -0.40781683,\n",
       "       -0.42620432, -0.3142354 , -0.16463025,  0.04053691,  0.0126151 ,\n",
       "       -0.08244066, -0.04160974, -0.5261283 , -0.53099376, -0.51266515,\n",
       "       -0.20156139,  0.17244017,  0.0892759 , -0.20664982, -0.21710111,\n",
       "       -0.5174431 , -0.48305786, -0.31827554, -0.15255445,  0.16397539,\n",
       "        0.10514762, -0.25017413, -0.41181338, -0.40254715, -0.37944025,\n",
       "       -0.11954987, -0.10102486, -0.06506171, -0.07669377, -0.33275214,\n",
       "       -0.3538428 , -0.35723943, -0.25631335, -0.13245393,  0.08491147,\n",
       "       -0.13065918, -0.33917227, -0.2503295 , -0.2834212 ], dtype=float32)"
      ]
     },
     "execution_count": 50,
     "metadata": {},
     "output_type": "execute_result"
    }
   ],
   "source": [
    "w[0]"
   ]
  },
  {
   "cell_type": "code",
   "execution_count": 56,
   "metadata": {},
   "outputs": [
    {
     "data": {
      "text/plain": [
       "<matplotlib.image.AxesImage at 0x176b1a200>"
      ]
     },
     "execution_count": 56,
     "metadata": {},
     "output_type": "execute_result"
    },
    {
     "data": {
      "image/png": "[encoded data removed]",
      "text/plain": [
       "<Figure size 640x480 with 1 Axes>"
      ]
     },
     "metadata": {},
     "output_type": "display_data"
    }
   ],
   "source": [
    "plt.imshow(w[16].reshape((8, 8)), cmap=plt.cm.gray_r, interpolation=\"nearest\")"
   ]
  },
  {
   "cell_type": "code",
   "execution_count": 63,
   "metadata": {},
   "outputs": [],
   "source": [
    "rbm._sample_hiddens?"
   ]
  },
  {
   "cell_type": "code",
   "execution_count": null,
   "metadata": {},
   "outputs": [],
   "source": []
  }
 ],
 "metadata": {
  "kernelspec": {
   "display_name": "Python 3 (ipykernel)",
   "language": "python",
   "name": "python3"
  },
  "language_info": {
   "codemirror_mode": {
    "name": "ipython",
    "version": 3
   },
   "file_extension": ".py",
   "mimetype": "text/x-python",
   "name": "python",
   "nbconvert_exporter": "python",
   "pygments_lexer": "ipython3",
   "version": "3.10.6"
  }
 },
 "nbformat": 4,
 "nbformat_minor": 1
}
